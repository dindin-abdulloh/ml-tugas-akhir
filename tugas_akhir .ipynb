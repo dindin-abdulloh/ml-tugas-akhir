{
 "cells": [
  {
   "cell_type": "code",
   "execution_count": 153,
   "id": "9e1e492d",
   "metadata": {},
   "outputs": [],
   "source": [
    "import pandas as pd\n",
    "from sklearn.tree import DecisionTreeClassifier\n",
    "from sklearn.neural_network import MLPClassifier\n",
    "from sklearn.neighbors import KNeighborsClassifier\n",
    "from sklearn.metrics import ConfusionMatrixDisplay\n",
    "from sklearn.metrics import confusion_matrix\n",
    "from sklearn.metrics import precision_recall_fscore_support\n",
    "import numpy as np\n",
    "import matplotlib.pyplot as plt"
   ]
  },
  {
   "cell_type": "code",
   "execution_count": 154,
   "id": "723d30dd",
   "metadata": {},
   "outputs": [],
   "source": [
    "dataset = pd.read_csv('excel_csv.csv')"
   ]
  },
  {
   "cell_type": "code",
   "execution_count": 155,
   "id": "e3630436",
   "metadata": {},
   "outputs": [
    {
     "data": {
      "text/html": [
       "<div>\n",
       "<style scoped>\n",
       "    .dataframe tbody tr th:only-of-type {\n",
       "        vertical-align: middle;\n",
       "    }\n",
       "\n",
       "    .dataframe tbody tr th {\n",
       "        vertical-align: top;\n",
       "    }\n",
       "\n",
       "    .dataframe thead th {\n",
       "        text-align: right;\n",
       "    }\n",
       "</style>\n",
       "<table border=\"1\" class=\"dataframe\">\n",
       "  <thead>\n",
       "    <tr style=\"text-align: right;\">\n",
       "      <th></th>\n",
       "      <th>IPS1</th>\n",
       "      <th>IPS2</th>\n",
       "      <th>IPS3</th>\n",
       "      <th>IPS4</th>\n",
       "      <th>IPS5</th>\n",
       "      <th>IPK</th>\n",
       "      <th>BiayaKuliah</th>\n",
       "      <th>TanggunganOrangTua</th>\n",
       "      <th>PenghasilanOrangTua</th>\n",
       "      <th>Status</th>\n",
       "    </tr>\n",
       "  </thead>\n",
       "  <tbody>\n",
       "    <tr>\n",
       "      <th>0</th>\n",
       "      <td>3.47</td>\n",
       "      <td>2.55</td>\n",
       "      <td>3.46</td>\n",
       "      <td>3.48</td>\n",
       "      <td>3.22</td>\n",
       "      <td>3.24</td>\n",
       "      <td>9000000</td>\n",
       "      <td>3</td>\n",
       "      <td>3000000</td>\n",
       "      <td>Layak</td>\n",
       "    </tr>\n",
       "    <tr>\n",
       "      <th>1</th>\n",
       "      <td>2.16</td>\n",
       "      <td>2.87</td>\n",
       "      <td>2.52</td>\n",
       "      <td>3.00</td>\n",
       "      <td>2.79</td>\n",
       "      <td>2.11</td>\n",
       "      <td>7685000</td>\n",
       "      <td>3</td>\n",
       "      <td>3000000</td>\n",
       "      <td>Tidak Layak</td>\n",
       "    </tr>\n",
       "    <tr>\n",
       "      <th>2</th>\n",
       "      <td>3.02</td>\n",
       "      <td>1.93</td>\n",
       "      <td>2.70</td>\n",
       "      <td>3.33</td>\n",
       "      <td>2.87</td>\n",
       "      <td>2.77</td>\n",
       "      <td>7685000</td>\n",
       "      <td>2</td>\n",
       "      <td>3000000</td>\n",
       "      <td>Tidak Layak</td>\n",
       "    </tr>\n",
       "    <tr>\n",
       "      <th>3</th>\n",
       "      <td>3.09</td>\n",
       "      <td>3.08</td>\n",
       "      <td>2.85</td>\n",
       "      <td>3.55</td>\n",
       "      <td>3.45</td>\n",
       "      <td>3.20</td>\n",
       "      <td>7685000</td>\n",
       "      <td>1</td>\n",
       "      <td>3000000</td>\n",
       "      <td>Tidak Layak</td>\n",
       "    </tr>\n",
       "    <tr>\n",
       "      <th>4</th>\n",
       "      <td>3.39</td>\n",
       "      <td>2.37</td>\n",
       "      <td>2.56</td>\n",
       "      <td>3.38</td>\n",
       "      <td>3.38</td>\n",
       "      <td>3.02</td>\n",
       "      <td>7685000</td>\n",
       "      <td>4</td>\n",
       "      <td>3000000</td>\n",
       "      <td>Tidak Layak</td>\n",
       "    </tr>\n",
       "  </tbody>\n",
       "</table>\n",
       "</div>"
      ],
      "text/plain": [
       "   IPS1  IPS2  IPS3  IPS4  IPS5   IPK  BiayaKuliah  TanggunganOrangTua  \\\n",
       "0  3.47  2.55  3.46  3.48  3.22  3.24      9000000                   3   \n",
       "1  2.16  2.87  2.52  3.00  2.79  2.11      7685000                   3   \n",
       "2  3.02  1.93  2.70  3.33  2.87  2.77      7685000                   2   \n",
       "3  3.09  3.08  2.85  3.55  3.45  3.20      7685000                   1   \n",
       "4  3.39  2.37  2.56  3.38  3.38  3.02      7685000                   4   \n",
       "\n",
       "   PenghasilanOrangTua       Status  \n",
       "0              3000000        Layak  \n",
       "1              3000000  Tidak Layak  \n",
       "2              3000000  Tidak Layak  \n",
       "3              3000000  Tidak Layak  \n",
       "4              3000000  Tidak Layak  "
      ]
     },
     "execution_count": 155,
     "metadata": {},
     "output_type": "execute_result"
    }
   ],
   "source": [
    "dataset.head()"
   ]
  },
  {
   "cell_type": "code",
   "execution_count": 156,
   "id": "263913c3",
   "metadata": {},
   "outputs": [],
   "source": [
    "import numpy as np"
   ]
  },
  {
   "cell_type": "code",
   "execution_count": 157,
   "id": "2eb37788",
   "metadata": {},
   "outputs": [
    {
     "data": {
      "text/plain": [
       "(650, 9)"
      ]
     },
     "execution_count": 157,
     "metadata": {},
     "output_type": "execute_result"
    }
   ],
   "source": [
    "x = np.array(dataset[['IPS1','IPS2','IPS3','IPS4','IPS5','IPK','BiayaKuliah','TanggunganOrangTua','PenghasilanOrangTua']])\n",
    "x.shape"
   ]
  },
  {
   "cell_type": "code",
   "execution_count": 158,
   "id": "c6993375",
   "metadata": {},
   "outputs": [],
   "source": [
    "y = np.array(dataset['Status'])"
   ]
  },
  {
   "cell_type": "code",
   "execution_count": 159,
   "id": "29ca683c",
   "metadata": {},
   "outputs": [
    {
     "data": {
      "text/plain": [
       "(195, 9)"
      ]
     },
     "execution_count": 159,
     "metadata": {},
     "output_type": "execute_result"
    }
   ],
   "source": [
    "from sklearn.model_selection import train_test_split\n",
    "x_train, x_test, y_train, y_test = train_test_split(x, y, test_size = 0.30)\n",
    "x_test.shape"
   ]
  },
  {
   "cell_type": "code",
   "execution_count": 165,
   "id": "84689d5a",
   "metadata": {},
   "outputs": [],
   "source": [
    "# Decision Tree\n",
    "clfTree = DecisionTreeClassifier()\n",
    "trainTree = clfTree.fit(x_train, y_train)\n",
    "y_pred = clfTree.predict(x_test)"
   ]
  },
  {
   "cell_type": "code",
   "execution_count": 167,
   "id": "01996d31",
   "metadata": {},
   "outputs": [
    {
     "data": {
      "text/plain": [
       "0.8974358974358975"
      ]
     },
     "execution_count": 167,
     "metadata": {},
     "output_type": "execute_result"
    }
   ],
   "source": [
    "clfTree.score(x_test, y_test)"
   ]
  },
  {
   "cell_type": "code",
   "execution_count": 169,
   "id": "613baa40",
   "metadata": {},
   "outputs": [
    {
     "data": {
      "image/png": "[encoded data removed]",
      "text/plain": [
       "<Figure size 432x288 with 2 Axes>"
      ]
     },
     "metadata": {
      "needs_background": "light"
     },
     "output_type": "display_data"
    }
   ],
   "source": [
    "cm = confusion_matrix(y_test, y_pred)\n",
    "cm_display = ConfusionMatrixDisplay(cm).plot()"
   ]
  },
  {
   "cell_type": "code",
   "execution_count": 120,
   "id": "d0549130",
   "metadata": {},
   "outputs": [],
   "source": [
    "# KNN Model\n",
    "clKnn = KNeighborsClassifier(n_neighbors=3)\n",
    "trainKnn = clKnn.fit(x_train, y_train)\n",
    "y_pred = clfTree.predict(x_test)"
   ]
  },
  {
   "cell_type": "code",
   "execution_count": 170,
   "id": "52e73058",
   "metadata": {},
   "outputs": [
    {
     "data": {
      "image/png": "[encoded data removed]",
      "text/plain": [
       "<Figure size 432x288 with 2 Axes>"
      ]
     },
     "metadata": {
      "needs_background": "light"
     },
     "output_type": "display_data"
    }
   ],
   "source": [
    "cm = confusion_matrix(y_test, y_pred)\n",
    "cm_display = ConfusionMatrixDisplay(cm).plot()"
   ]
  },
  {
   "cell_type": "code",
   "execution_count": 95,
   "id": "1e5892de",
   "metadata": {},
   "outputs": [
    {
     "data": {
      "text/plain": [
       "0.8769230769230769"
      ]
     },
     "execution_count": 95,
     "metadata": {},
     "output_type": "execute_result"
    }
   ],
   "source": [
    "clKnn.score(x_test, y_test)"
   ]
  },
  {
   "cell_type": "code",
   "execution_count": 172,
   "id": "dd526778",
   "metadata": {},
   "outputs": [],
   "source": [
    "# Neural Network\n",
    "clfAnn = MLPClassifier(alpha=1e-5, hidden_layer_sizes=(15,), random_state=1)\n",
    "trainAnn = clfAnn.fit(x_test, y_test)\n",
    "y_pred = clfTree.predict(x_test)"
   ]
  },
  {
   "cell_type": "code",
   "execution_count": 171,
   "id": "3647a481",
   "metadata": {},
   "outputs": [
    {
     "data": {
      "image/png": "[encoded data removed]",
      "text/plain": [
       "<Figure size 432x288 with 2 Axes>"
      ]
     },
     "metadata": {
      "needs_background": "light"
     },
     "output_type": "display_data"
    }
   ],
   "source": [
    "cm = confusion_matrix(y_test, y_pred)\n",
    "cm_display = ConfusionMatrixDisplay(cm).plot()"
   ]
  },
  {
   "cell_type": "code",
   "execution_count": 99,
   "id": "141be2bf",
   "metadata": {},
   "outputs": [
    {
     "data": {
      "text/plain": [
       "0.3333333333333333"
      ]
     },
     "execution_count": 99,
     "metadata": {},
     "output_type": "execute_result"
    }
   ],
   "source": [
    "clfAnn.score(x_test, y_test)"
   ]
  }
 ],
 "metadata": {
  "kernelspec": {
   "display_name": "Python 3",
   "language": "python",
   "name": "python3"
  },
  "language_info": {
   "codemirror_mode": {
    "name": "ipython",
    "version": 3
   },
   "file_extension": ".py",
   "mimetype": "text/x-python",
   "name": "python",
   "nbconvert_exporter": "python",
   "pygments_lexer": "ipython3",
   "version": "3.8.8"
  }
 },
 "nbformat": 4,
 "nbformat_minor": 5
}
